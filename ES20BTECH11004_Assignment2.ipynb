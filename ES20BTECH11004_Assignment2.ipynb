{
  "nbformat": 4,
  "nbformat_minor": 0,
  "metadata": {
    "colab": {
      "provenance": []
    },
    "kernelspec": {
      "name": "python3",
      "display_name": "Python 3"
    },
    "language_info": {
      "name": "python"
    }
  },
  "cells": [
    {
      "cell_type": "code",
      "source": [
        "import numpy as np\n",
        "import matplotlib.pyplot as plt\n",
        "import matplotlib.image as mpimage\n",
        "image = mpimage.imread('hen.png')\n",
        "plt.imshow(image)\n",
        "print(image.shape)\n"
      ],
      "metadata": {
        "id": "-YsmjvEay5bX",
        "colab": {
          "base_uri": "https://localhost:8080/",
          "height": 283
        },
        "outputId": "bd87fbee-70fc-4e5f-86bc-7458a4f96729"
      },
      "execution_count": 78,
      "outputs": [
        {
          "output_type": "stream",
          "name": "stdout",
          "text": [
            "(32, 32, 3)\n"
          ]
        },
        {
          "output_type": "display_data",
          "data": {
            "text/plain": [
              "<Figure size 432x288 with 1 Axes>"
            ],
            "image/png": "[encoded data removed]"
          },
          "metadata": {
            "needs_background": "light"
          }
        }
      ]
    },
    {
      "cell_type": "code",
      "source": [
        " #this is a helper function to make the reflecction \n",
        "def fun(img,i,j,k):                                                            \n",
        "  i,j = abs(i-k+1),abs(j-k+1)\n",
        "  W,H,C = img.shape\n",
        "\n",
        "  if(i>=W):\n",
        "    i = 2*W-i-2\n",
        "  if(j>=H):\n",
        "    j = 2*H-j-2\n",
        "  \n",
        "  return img[i][j]\n"
      ],
      "metadata": {
        "id": "u7jda0bJzgkr"
      },
      "execution_count": 79,
      "outputs": []
    },
    {
      "cell_type": "code",
      "source": [
        "# this function is for Reflecting the input image around the edges\n",
        "def ref_pad(img,k):                                                             \n",
        "  W,H,C = img.shape\n",
        "  x,y,z = W+2*k-2,H+2*k-2,C                                                    \n",
        "  A = np.zeros([x,y,z])\n",
        "\n",
        "  for i in range(x):\n",
        "    for j in range(y):\n",
        "      A[i][j] = fun(img,i,j,k)                                                  \n",
        "  return A "
      ],
      "metadata": {
        "id": "4tt4eyYDzdd9"
      },
      "execution_count": 80,
      "outputs": []
    },
    {
      "cell_type": "code",
      "source": [
        "#different non linear functions\n",
        "def sigmoid(x):\n",
        "  x = 1/(1+np.exp(-x))\n",
        "  return x\n",
        "\n",
        "def tanh(x):\n",
        "  x = (np.exp(x)-np.exp(-x))//(np.exp(x)+np.exp(-x))\n",
        "  return x\n",
        "\n",
        "def relu(x):\n",
        "  x = np.maximum(0,x)\n",
        "  return x\n",
        "\n",
        "def prelu(x):\n",
        "  x = np.maximum(0.001*x,x)\n",
        "  return x"
      ],
      "metadata": {
        "id": "QhUqDs7mJYsU"
      },
      "execution_count": 81,
      "outputs": []
    },
    {
      "cell_type": "markdown",
      "source": [
        "# **1 question**"
      ],
      "metadata": {
        "id": "7QPqA-wYAK0b"
      }
    },
    {
      "cell_type": "code",
      "execution_count": 82,
      "metadata": {
        "id": "V7r6x5ZuuPuT"
      },
      "outputs": [],
      "source": [
        "# defining a convolution\n",
        "def convolution(img,tmp,stride,pad,fun): \n",
        "    #here we are flipping the kernel                                          \n",
        "    kernel = np.flip(tmp,0)                                              \n",
        "    n = tmp.shape[0]\n",
        "    if pad == 1:\n",
        "      img = ref_pad(img,n)\n",
        "    m,n,o = img.shape\n",
        "    a,b,c = tmp.shape\n",
        "    k = stride\n",
        "    x,y,z = ((m-a)//k)+1,((n-b)//k)+1,c\n",
        "    img_filter = np.zeros([x,y,z])\n",
        "    conv_img  = np.zeros([x,y])\n",
        "\n",
        "    for t in range(o):\n",
        "        for i in range(x):\n",
        "          for j in range(y):\n",
        "            s = 0\n",
        "            for p in range(a):\n",
        "              for q in range(b):\n",
        "                  s += img[(i*k)+p][(j*k)+q][t] * tmp[p][q][t]                          \n",
        "            img_filter[i][j][t] = s\n",
        "            \n",
        "    for i in range(0,x):                                                               \n",
        "      for j in range(0,y):        \n",
        "        for k in range (0,z):\n",
        "          conv_img[i][j] += img_filter[i][j][k]\n",
        "    conv_img = fun(conv_img)\n",
        "    return conv_img"
      ]
    },
    {
      "cell_type": "code",
      "source": [
        "#ridge kernel\n",
        "a = [[-1,0,0],[-1,5,-1],[0,-1,0]]                                               \n",
        "r_kernal = np.stack((a,a,a),2)\n",
        "print(r_kernal.shape)"
      ],
      "metadata": {
        "id": "_EQO8glp5ZcD",
        "colab": {
          "base_uri": "https://localhost:8080/"
        },
        "outputId": "19681936-c99c-4d19-905a-bfba24f6606e"
      },
      "execution_count": 83,
      "outputs": [
        {
          "output_type": "stream",
          "name": "stdout",
          "text": [
            "(3, 3, 3)\n"
          ]
        }
      ]
    },
    {
      "cell_type": "code",
      "source": [
        "img = convolution(image,r_kernal,2,1,sigmoid)                                 \n",
        "# ploting input image\n",
        "plt.imshow(image)                                                              \n",
        "plt.show()\n",
        "\n",
        "plt.figure(figsize = (15,15))\n",
        "plt.subplot(1,3,3)\n",
        "#ploting kernal\n",
        "plt.imshow(r_kernal/np.amax(r_kernal),cmap = 'gray')                      \n",
        "plt.show()\n",
        "\n",
        "plt.imshow(img,cmap = 'gray')                                                   \n",
        "plt.show()"
      ],
      "metadata": {
        "colab": {
          "base_uri": "https://localhost:8080/",
          "height": 812
        },
        "id": "3elLD66p5JvW",
        "outputId": "129048b7-3d00-44b0-8aaf-0963e8b64360"
      },
      "execution_count": 84,
      "outputs": [
        {
          "output_type": "display_data",
          "data": {
            "text/plain": [
              "<Figure size 432x288 with 1 Axes>"
            ],
            "image/png": "[encoded data removed]"
          },
          "metadata": {
            "needs_background": "light"
          }
        },
        {
          "output_type": "stream",
          "name": "stderr",
          "text": [
            "WARNING:matplotlib.image:Clipping input data to the valid range for imshow with RGB data ([0..1] for floats or [0..255] for integers).\n"
          ]
        },
        {
          "output_type": "display_data",
          "data": {
            "text/plain": [
              "<Figure size 1080x1080 with 1 Axes>"
            ],
            "image/png": "[encoded data removed]"
          },
          "metadata": {
            "needs_background": "light"
          }
        },
        {
          "output_type": "display_data",
          "data": {
            "text/plain": [
              "<Figure size 432x288 with 1 Axes>"
            ],
            "image/png": "[encoded data removed]"
          },
          "metadata": {
            "needs_background": "light"
          }
        }
      ]
    },
    {
      "cell_type": "code",
      "source": [
        "img = convolution(image,r_kernal,2,1,tanh)\n",
        "# ploting input image\n",
        "plt.imshow(image)                                                               \n",
        "plt.show()\n",
        "\n",
        "plt.figure(figsize = (15,15))\n",
        "plt.subplot(1,3,3)\n",
        "#ploting kernal\n",
        "plt.imshow(r_kernal/np.amax(r_kernal),cmap = 'gray')                      \n",
        "plt.show()\n",
        "\n",
        "plt.imshow(img,cmap = 'gray')                                                   \n",
        "plt.show()"
      ],
      "metadata": {
        "colab": {
          "base_uri": "https://localhost:8080/",
          "height": 812
        },
        "id": "5MujKqR9NaHb",
        "outputId": "c6723686-ded6-4b9e-e49e-a4ef86d22215"
      },
      "execution_count": 85,
      "outputs": [
        {
          "output_type": "display_data",
          "data": {
            "text/plain": [
              "<Figure size 432x288 with 1 Axes>"
            ],
            "image/png": "[encoded data removed]"
          },
          "metadata": {
            "needs_background": "light"
          }
        },
        {
          "output_type": "stream",
          "name": "stderr",
          "text": [
            "WARNING:matplotlib.image:Clipping input data to the valid range for imshow with RGB data ([0..1] for floats or [0..255] for integers).\n"
          ]
        },
        {
          "output_type": "display_data",
          "data": {
            "text/plain": [
              "<Figure size 1080x1080 with 1 Axes>"
            ],
            "image/png": "[encoded data removed]"
          },
          "metadata": {
            "needs_background": "light"
          }
        },
        {
          "output_type": "display_data",
          "data": {
            "text/plain": [
              "<Figure size 432x288 with 1 Axes>"
            ],
            "image/png": "[encoded data removed]"
          },
          "metadata": {
            "needs_background": "light"
          }
        }
      ]
    },
    {
      "cell_type": "code",
      "source": [
        "img = convolution(image,r_kernal,2,1,relu)\n",
        "# ploting input image\n",
        "plt.imshow(image)                                                               \n",
        "plt.show()\n",
        "\n",
        "plt.figure(figsize = (15,15))\n",
        "plt.subplot(1,3,3)\n",
        "#ploting kernal\n",
        "plt.imshow(r_kernal/np.amax(r_kernal),cmap = 'gray')                      \n",
        "plt.show()\n",
        "\n",
        "plt.imshow(img/255,cmap = 'gray')                                              "
      ],
      "metadata": {
        "colab": {
          "base_uri": "https://localhost:8080/",
          "height": 830
        },
        "id": "UcNXv-nkNghh",
        "outputId": "b9335805-7ed3-4d89-9914-73ff309d2f90"
      },
      "execution_count": 86,
      "outputs": [
        {
          "output_type": "display_data",
          "data": {
            "text/plain": [
              "<Figure size 432x288 with 1 Axes>"
            ],
            "image/png": "[encoded data removed]"
          },
          "metadata": {
            "needs_background": "light"
          }
        },
        {
          "output_type": "stream",
          "name": "stderr",
          "text": [
            "WARNING:matplotlib.image:Clipping input data to the valid range for imshow with RGB data ([0..1] for floats or [0..255] for integers).\n"
          ]
        },
        {
          "output_type": "display_data",
          "data": {
            "text/plain": [
              "<Figure size 1080x1080 with 1 Axes>"
            ],
            "image/png": "[encoded data removed]"
          },
          "metadata": {
            "needs_background": "light"
          }
        },
        {
          "output_type": "execute_result",
          "data": {
            "text/plain": [
              "<matplotlib.image.AxesImage at 0x7f279e0135e0>"
            ]
          },
          "metadata": {},
          "execution_count": 86
        },
        {
          "output_type": "display_data",
          "data": {
            "text/plain": [
              "<Figure size 432x288 with 1 Axes>"
            ],
            "image/png": "[encoded data removed]"
          },
          "metadata": {
            "needs_background": "light"
          }
        }
      ]
    },
    {
      "cell_type": "code",
      "source": [
        "img = convolution(image,r_kernal,2,1,prelu)\n",
        "# ploting input image\n",
        "plt.imshow(image)                                                               \n",
        "plt.show()\n",
        "\n",
        "plt.figure(figsize = (15,15))\n",
        "plt.subplot(1,3,3)\n",
        "\n",
        "# ploting kernel image\n",
        "plt.imshow(r_kernal/np.amax(r_kernal),cmap = 'gray')                      \n",
        "plt.show()\n",
        "\n",
        "plt.imshow(img/255,cmap = 'gray')                                               "
      ],
      "metadata": {
        "colab": {
          "base_uri": "https://localhost:8080/",
          "height": 830
        },
        "id": "P42q_kAvNaRb",
        "outputId": "8162e5e4-3f8f-4d2d-e9a9-ffc94657b431"
      },
      "execution_count": 87,
      "outputs": [
        {
          "output_type": "display_data",
          "data": {
            "text/plain": [
              "<Figure size 432x288 with 1 Axes>"
            ],
            "image/png": "[encoded data removed]"
          },
          "metadata": {
            "needs_background": "light"
          }
        },
        {
          "output_type": "stream",
          "name": "stderr",
          "text": [
            "WARNING:matplotlib.image:Clipping input data to the valid range for imshow with RGB data ([0..1] for floats or [0..255] for integers).\n"
          ]
        },
        {
          "output_type": "display_data",
          "data": {
            "text/plain": [
              "<Figure size 1080x1080 with 1 Axes>"
            ],
            "image/png": "[encoded data removed]"
          },
          "metadata": {
            "needs_background": "light"
          }
        },
        {
          "output_type": "execute_result",
          "data": {
            "text/plain": [
              "<matplotlib.image.AxesImage at 0x7f27a78b85e0>"
            ]
          },
          "metadata": {},
          "execution_count": 87
        },
        {
          "output_type": "display_data",
          "data": {
            "text/plain": [
              "<Figure size 432x288 with 1 Axes>"
            ],
            "image/png": "[encoded data removed]"
          },
          "metadata": {
            "needs_background": "light"
          }
        }
      ]
    },
    {
      "cell_type": "markdown",
      "source": [
        "# **2 question: Pooling function**"
      ],
      "metadata": {
        "id": "dLcGb9vzAXUX"
      }
    },
    {
      "cell_type": "code",
      "source": [
        "# this function will return the window size matrix\n",
        "def get_pools(img: np.array, pool_size: int, stride: int) -> np.array:          \n",
        "    pools = []\n",
        "    for i in np.arange(img.shape[0], step=stride):\n",
        "        for j in np.arange(img.shape[0], step=stride):\n",
        "            mat = img[i:i+pool_size, j:j+pool_size]\n",
        "            if mat.shape == (pool_size, pool_size):\n",
        "                pools.append(mat)\n",
        "\n",
        "    return np.array(pools)"
      ],
      "metadata": {
        "id": "a1lhM5etH9Dh"
      },
      "execution_count": 88,
      "outputs": []
    },
    {
      "cell_type": "code",
      "source": [
        "#max pooling\n",
        "def max_pooling(pools: np.array) -> np.array:                                   \n",
        "\n",
        "  n = pools.shape[0]\n",
        "  m,n = (int(np.sqrt(n)), int(np.sqrt(n)))\n",
        "  pooled = []\n",
        "  for pool in pools:\n",
        "      pooled.append(np.max(pool))\n",
        "      \n",
        "  return np.array(pooled).reshape((m,n))"
      ],
      "metadata": {
        "id": "q8S3gl0THcAd"
      },
      "execution_count": 89,
      "outputs": []
    },
    {
      "cell_type": "code",
      "source": [
        "#avarage pooling\n",
        "def avg_pooling(pools: np.array) -> np.array:\n",
        "\n",
        "  n = pools.shape[0]\n",
        "  m,n = (int(np.sqrt(n)), int(np.sqrt(n)))\n",
        "  pooled = []\n",
        "  for pool in pools:\n",
        "      pooled.append(np.mean(pool))\n",
        "      \n",
        "  return np.array(pooled).reshape((m,n))"
      ],
      "metadata": {
        "id": "tRetMVngI4BO"
      },
      "execution_count": 90,
      "outputs": []
    },
    {
      "cell_type": "code",
      "source": [
        "#pooling function\n",
        "def pooling(img,pool,window,stride):                                            \n",
        "  x = get_pools(img,window,stride)\n",
        "  tgt_img = pool(x)\n",
        "\n",
        "  return tgt_img\n",
        "\n"
      ],
      "metadata": {
        "id": "kxmb01ekBMFK"
      },
      "execution_count": 91,
      "outputs": []
    },
    {
      "cell_type": "code",
      "source": [
        "pool_act_map = pooling(img,max_pooling,2,2)                                     "
      ],
      "metadata": {
        "id": "u7Cq-35MKv80"
      },
      "execution_count": 92,
      "outputs": []
    },
    {
      "cell_type": "code",
      "source": [
        "#input image\n",
        "plt.imshow(img,cmap = \"gray\")                                                  \n",
        "plt.show()\n",
        "\n",
        "#output image\n",
        "plt.imshow(pool_act_map,cmap = \"gray\")\n",
        "plt.show()                                                                       "
      ],
      "metadata": {
        "colab": {
          "base_uri": "https://localhost:8080/",
          "height": 513
        },
        "id": "vLwf11yCIT73",
        "outputId": "8298a4f9-be88-48e5-be3a-318b2bb39c8f"
      },
      "execution_count": 93,
      "outputs": [
        {
          "output_type": "display_data",
          "data": {
            "text/plain": [
              "<Figure size 432x288 with 1 Axes>"
            ],
            "image/png": "[encoded data removed]"
          },
          "metadata": {
            "needs_background": "light"
          }
        },
        {
          "output_type": "display_data",
          "data": {
            "text/plain": [
              "<Figure size 432x288 with 1 Axes>"
            ],
            "image/png": "[encoded data removed]"
          },
          "metadata": {
            "needs_background": "light"
          }
        }
      ]
    },
    {
      "cell_type": "markdown",
      "source": [
        "# **3 question: Convolution layer function**"
      ],
      "metadata": {
        "id": "pX7cctZ0Aejm"
      }
    },
    {
      "cell_type": "code",
      "source": [
        "#convolution layer function\n",
        "def conv_layer(img,filter_kernels,stride,pad,fun):                             \n",
        "  n = len(filter_kernels)\n",
        "  A = []\n",
        "  \n",
        "  for i in range(n):\n",
        "    A.append(convolution(img,filter_kernels[i],stride,pad,fun))\n",
        "\n",
        "  A = np.stack(A,2)\n",
        "  return A\n",
        "\n",
        "\n",
        "\n",
        "def kernel(x,y,z,n):\n",
        "  return np.random.rand(n,x,y,z)                                                \n"
      ],
      "metadata": {
        "id": "obn0I3zDLdVq"
      },
      "execution_count": 94,
      "outputs": []
    },
    {
      "cell_type": "code",
      "source": [
        "#plotting kernals\n",
        "filter_kernels = kernel(3,3,3,3)\n",
        "m = np.amax(conv_layer(image,filter_kernels,2,1,relu))\n",
        "conv_lay_img = conv_layer(image,filter_kernels,2,1,relu)/m\n",
        "\n",
        "plt.imshow(image)\n",
        "plt.show()\n",
        "\n",
        "plt.figure(figsize = (15,15))                                                    \n",
        "for i in range(3):\n",
        "  plt.subplot(1,3,i+1)\n",
        "  plt.imshow(filter_kernels[i])\n",
        "plt.show()\n",
        "\n",
        "plt.imshow(conv_lay_img)\n",
        "plt.show()"
      ],
      "metadata": {
        "colab": {
          "base_uri": "https://localhost:8080/",
          "height": 795
        },
        "id": "qbKIm5hKPLCp",
        "outputId": "dbcadf16-52bd-4fe8-9ae5-1a95430430bc"
      },
      "execution_count": 95,
      "outputs": [
        {
          "output_type": "display_data",
          "data": {
            "text/plain": [
              "<Figure size 432x288 with 1 Axes>"
            ],
            "image/png": "[encoded data removed]"
          },
          "metadata": {
            "needs_background": "light"
          }
        },
        {
          "output_type": "display_data",
          "data": {
            "text/plain": [
              "<Figure size 1080x1080 with 3 Axes>"
            ],
            "image/png": "[encoded data removed]"
          },
          "metadata": {
            "needs_background": "light"
          }
        },
        {
          "output_type": "display_data",
          "data": {
            "text/plain": [
              "<Figure size 432x288 with 1 Axes>"
            ],
            "image/png": "[encoded data removed]"
          },
          "metadata": {
            "needs_background": "light"
          }
        }
      ]
    },
    {
      "cell_type": "markdown",
      "source": [
        "# **4 question Pooling layer function:**"
      ],
      "metadata": {
        "id": "aqR3UWp3AmYx"
      }
    },
    {
      "cell_type": "code",
      "source": [
        "def pool_layer(img,pool,window,stride):\n",
        "  \n",
        "  tgt_img = []\n",
        "\n",
        "  for i in range(3):   \n",
        "     x = get_pools(img[:,:,i],window,stride)\n",
        "     tgt_img.append(pool(x))\n",
        "  \n",
        "  tgt_img = np.stack(tgt_img,2)\n",
        "  return tgt_img\n",
        "\n"
      ],
      "metadata": {
        "id": "kHE4slsQTpUe"
      },
      "execution_count": 96,
      "outputs": []
    },
    {
      "cell_type": "code",
      "source": [
        "pool_lay_img = pool_layer(conv_lay_img,max_pooling,2,2)\n",
        "\n",
        "#plot input\n",
        "plt.imshow(conv_lay_img)                                                        \n",
        "plt.show()\n",
        "\n",
        "#plot output\n",
        "plt.imshow(pool_lay_img)\n",
        "plt.show()                                                                      "
      ],
      "metadata": {
        "colab": {
          "base_uri": "https://localhost:8080/",
          "height": 513
        },
        "id": "_xIdruE_VffG",
        "outputId": "0358a676-c3f7-4969-ee73-0161ace06f4f"
      },
      "execution_count": 97,
      "outputs": [
        {
          "output_type": "display_data",
          "data": {
            "text/plain": [
              "<Figure size 432x288 with 1 Axes>"
            ],
            "image/png": "[encoded data removed]"
          },
          "metadata": {
            "needs_background": "light"
          }
        },
        {
          "output_type": "display_data",
          "data": {
            "text/plain": [
              "<Figure size 432x288 with 1 Axes>"
            ],
            "image/png": "[encoded data removed]"
          },
          "metadata": {
            "needs_background": "light"
          }
        }
      ]
    },
    {
      "cell_type": "markdown",
      "source": [
        "# **5 question Flattening function:**"
      ],
      "metadata": {
        "id": "5JOyLa7eAr9e"
      }
    },
    {
      "cell_type": "code",
      "source": [
        "def Flattening(img,d):\n",
        "  n = len(pool_lay_img.flatten())\n",
        "  A = pool_lay_img.flatten()\n",
        "\n",
        "  weigh_mat = np.random.rand(d,n)\n",
        "\n",
        "  B = np.dot(weigh_mat,A)\n",
        "\n",
        "  return B\n"
      ],
      "metadata": {
        "id": "MLNpwiUVXcOe"
      },
      "execution_count": 98,
      "outputs": []
    },
    {
      "cell_type": "code",
      "source": [
        "vector = Flattening(pool_lay_img,100)                                           "
      ],
      "metadata": {
        "id": "_MnuEy0VZOKr"
      },
      "execution_count": 99,
      "outputs": []
    },
    {
      "cell_type": "code",
      "source": [
        "def softmax(vec):\n",
        "  return np.exp(vec)/np.sum(np.exp(vec))"
      ],
      "metadata": {
        "id": "hil7S4edAASR"
      },
      "execution_count": 100,
      "outputs": []
    },
    {
      "cell_type": "markdown",
      "source": [
        "# **6 question Multilayer Perceptron (MLP) function**"
      ],
      "metadata": {
        "id": "l3lKT-YHA0rb"
      }
    },
    {
      "cell_type": "code",
      "source": [
        "def MLP(inp_vec,n,size,fun,size_out,soft_max):\n",
        "  A = inp_vec\n",
        "  for i in range(n):\n",
        "    weigh_mat = np.random.rand(size[i+1],size[i])\n",
        "    A = np.dot(weigh_mat,A)\n",
        "    A = fun(A)\n",
        "\n",
        "  weigh_mat = np.random.rand(size_out,size[n])\n",
        "  A = np.dot(weigh_mat,A)\n",
        "\n",
        "  if soft_max == 1:\n",
        "    A = softmax(A)\n",
        "\n",
        "  return A\n"
      ],
      "metadata": {
        "id": "_IvzwjRMXnXh"
      },
      "execution_count": 101,
      "outputs": []
    },
    {
      "cell_type": "code",
      "source": [
        "#size is list of hidden layer lengths\n",
        "size = np.array([len(vector),25])                                               \n",
        "MLP(vector,1,size,sigmoid,20,0)\n"
      ],
      "metadata": {
        "colab": {
          "base_uri": "https://localhost:8080/"
        },
        "id": "FD_TTKooeamk",
        "outputId": "5e61d5b8-c66c-4135-855a-581fe81719a4"
      },
      "execution_count": 102,
      "outputs": [
        {
          "output_type": "execute_result",
          "data": {
            "text/plain": [
              "array([12.22178622, 13.53183909, 11.21053195, 14.14735819, 12.1996145 ,\n",
              "       11.52452846, 11.70681222, 13.46932604, 12.62763385, 10.97760305,\n",
              "       11.54987229, 12.59654563, 15.05402434, 12.39450476, 14.70788198,\n",
              "       12.1534767 , 13.24799832, 14.03097546, 13.48583954, 12.6586846 ])"
            ]
          },
          "metadata": {},
          "execution_count": 102
        }
      ]
    },
    {
      "cell_type": "code",
      "source": [
        "#importing cifar10 from keras\n",
        "from keras.datasets import cifar10                                              \n",
        "(x_train,y_train),(x_test,y_test) = cifar10.load_data()"
      ],
      "metadata": {
        "id": "o3H-sRWwiNAN"
      },
      "execution_count": 103,
      "outputs": []
    },
    {
      "cell_type": "code",
      "source": [
        "def cifar(label,n):\n",
        "    num = 0\n",
        "    i = 0\n",
        "    cifar_img = []\n",
        "    while(num<n):\n",
        "        if(y_train[i][0] == label):\n",
        "            cifar_img.append(x_train[i])\n",
        "            num +=1\n",
        "        i+=1\n",
        "        \n",
        "    return cifar_img"
      ],
      "metadata": {
        "id": "LfneX7_QXk54"
      },
      "execution_count": 104,
      "outputs": []
    },
    {
      "cell_type": "markdown",
      "source": [
        "# **7 question Feed-forward path**"
      ],
      "metadata": {
        "id": "iOwSDozdBCOs"
      }
    },
    {
      "cell_type": "code",
      "source": [
        "def feed_forward(img):\n",
        "\n",
        "  filter_kernels = kernel(3,3,3,16)\n",
        "  conv_lay1 = conv_layer(img,filter_kernels,1,1,sigmoid)\n",
        "\n",
        "  pool_img1 = pool_layer(conv_lay1,max_pooling,2,2)\n",
        "\n",
        "  filter_kernels = kernel(3,3,conv_lay1.shape[-1],8)\n",
        "  conv_lay2 = conv_layer(pool_img1,filter_kernels,1,0,sigmoid)\n",
        "\n",
        "  pool_img2 = pool_layer(conv_lay2,max_pooling,2,2)\n",
        "\n",
        "  pool_img3 = pool_layer(conv_lay2,avg_pooling,2,2)\n",
        "  vector = Flattening(pool_img3,d = 50)\n",
        "\n",
        "  size = np.array([25])\n",
        "  size = np.insert(size,0,len(vector))\n",
        "  fin_vector = MLP(vector,1,size,sigmoid,10,0)\n",
        "\n",
        "  return fin_vector\n",
        "\n",
        "\n",
        "\n"
      ],
      "metadata": {
        "id": "dWxtYtvyfBQp"
      },
      "execution_count": 105,
      "outputs": []
    },
    {
      "cell_type": "code",
      "source": [
        "feed_forward(image)\n",
        "#here we can see this  output is a vector                                                               "
      ],
      "metadata": {
        "colab": {
          "base_uri": "https://localhost:8080/"
        },
        "id": "qKcFyrMUfFji",
        "outputId": "c0115668-2d78-421a-8909-0384c2d57a9f"
      },
      "execution_count": 106,
      "outputs": [
        {
          "output_type": "execute_result",
          "data": {
            "text/plain": [
              "array([12.37422675, 13.62073292, 11.6906107 , 11.45431102, 11.15257576,\n",
              "       12.44187978,  9.66884072, 13.25186067, 10.53782538, 12.41216938])"
            ]
          },
          "metadata": {},
          "execution_count": 106
        }
      ]
    },
    {
      "cell_type": "markdown",
      "source": [
        "# **8 question**"
      ],
      "metadata": {
        "id": "aCouqebQDkXd"
      }
    },
    {
      "cell_type": "code",
      "source": [
        "import matplotlib.pyplot as plt\n",
        "for i in range(10):\n",
        "  x = np.arange(0, 10) \n",
        "  y = feed_forward(cifar(i,1)[0])\n",
        "  print(y)\n",
        "  # plt.plot(x,y)\n",
        "  # plt.show()\n",
        "\n",
        "  \n",
        "  "
      ],
      "metadata": {
        "colab": {
          "base_uri": "https://localhost:8080/"
        },
        "id": "5kgX-WfDemM6",
        "outputId": "d4ce35bc-0cdc-4cca-c86d-d7d75f9f5531"
      },
      "execution_count": 107,
      "outputs": [
        {
          "output_type": "stream",
          "name": "stdout",
          "text": [
            "[12.32706094 13.09325514 14.35214614 12.1604836  12.84459227 10.8405831\n",
            " 14.69951924 13.25414151 13.58241271 11.94383484]\n",
            "[13.4652203  11.45787243 12.14084483 13.62643789 12.87912296 12.86230254\n",
            " 11.96418805 13.9781806  11.24593273 12.84773508]\n",
            "[12.53975398 10.99437604 13.72615377 12.58951576 10.89548301 13.16898398\n",
            "  9.9320145   9.35961418 14.49649687  9.7971019 ]\n",
            "[ 8.37115922 14.5801338  13.61979324 13.862172   16.04888112 13.51251799\n",
            " 12.4131527  11.95603258 14.44654498 12.81293505]\n",
            "[10.70236732 10.25644101 13.36946777 11.86106843 13.46958683 12.45566284\n",
            " 13.43510593 12.29279806 14.53011998 11.90369689]\n",
            "[ 9.00554974  9.77453382 12.49241754 11.40867635 11.17912285  9.4492711\n",
            " 12.72030629 11.40893551 13.53218363 13.48490978]\n",
            "[14.5686763  12.28261607 11.71916674 14.59377859 15.11102684 13.89643881\n",
            " 11.71803373 13.29908573 13.64924666 13.80272567]\n",
            "[11.60489691 16.94872595 13.04258432 13.07526572 12.76052792 15.49862677\n",
            " 11.99226588 11.46386171 10.9612023  12.35799699]\n",
            "[12.73781892 12.68837306 13.11011742 12.59896884 15.64633835 12.75139175\n",
            " 12.09971791 11.09771119 11.44833469 13.19494487]\n",
            "[14.66741841 14.07060613 12.96518157 11.06907643 12.11903937 15.14642553\n",
            " 12.82645488 11.95341545  9.62320446 13.92696455]\n"
          ]
        }
      ]
    },
    {
      "cell_type": "markdown",
      "source": [
        "# **8b Question**"
      ],
      "metadata": {
        "id": "afCtFi-dBVq6"
      }
    },
    {
      "cell_type": "code",
      "source": [
        "def plot_(img):\n",
        "  filter_kernels = kernel(3,3,3,16)\n",
        "  conv_lay1 = conv_layer(img,filter_kernels,1,0,sigmoid)\n",
        "  pool_img1 = pool_layer(conv_lay1,max_pooling,2,2)\n",
        "  vector = Flattening(pool_img1,d = 10)\n",
        "  return vector\n"
      ],
      "metadata": {
        "id": "ri9CaJWYpktp"
      },
      "execution_count": 108,
      "outputs": []
    },
    {
      "cell_type": "code",
      "source": [
        "X = []\n",
        "Y = []\n",
        "for i in range(10):\n",
        "  x,y,z = cifar(i,3)\n",
        "  Y.append(i)\n",
        "  Y.append(i)\n",
        "  Y.append(i)\n",
        "  X.append(plot_(x))\n",
        "  X.append(plot_(y))\n",
        "  X.append(plot_(z))\n"
      ],
      "metadata": {
        "id": "x-nW7LbSsbPf"
      },
      "execution_count": 109,
      "outputs": []
    },
    {
      "cell_type": "code",
      "source": [
        "#X is a 2d vectors of cifar images 10 classes each of 3 images\n",
        "X = np.array(X)                                                                 \n",
        "Y = np.array(Y)"
      ],
      "metadata": {
        "id": "Hpicq0HEstGk"
      },
      "execution_count": 110,
      "outputs": []
    },
    {
      "cell_type": "code",
      "source": [
        "len(X)\n",
        "print(X.shape)"
      ],
      "metadata": {
        "colab": {
          "base_uri": "https://localhost:8080/"
        },
        "id": "4YrQwVoXtFq5",
        "outputId": "f32df0b0-1c4c-45fd-db14-126ba67443c6"
      },
      "execution_count": 111,
      "outputs": [
        {
          "output_type": "stream",
          "name": "stdout",
          "text": [
            "(30, 10)\n"
          ]
        }
      ]
    },
    {
      "cell_type": "code",
      "source": [
        "from sklearn.decomposition import PCA\n",
        "import numpy as np\n",
        "pca=PCA(n_components=2)\n",
        "pca.fit(X)\n",
        "result=pca.transform(X)\n",
        "\n",
        "print(result)\n"
      ],
      "metadata": {
        "colab": {
          "base_uri": "https://localhost:8080/"
        },
        "id": "iIddXA2hayZX",
        "outputId": "698c283b-13ac-42b8-b6cd-ec770e9fd6e2"
      },
      "execution_count": 112,
      "outputs": [
        {
          "output_type": "stream",
          "name": "stdout",
          "text": [
            "[[-3.10345318 -4.71634552]\n",
            " [ 1.72211568  2.25766358]\n",
            " [-3.61709272  0.51330436]\n",
            " [-4.63726959 -1.89832774]\n",
            " [ 0.28065109 -1.66388459]\n",
            " [ 3.03074824 -2.73104877]\n",
            " [ 4.82479372  3.61397936]\n",
            " [ 4.47106752 -1.36155906]\n",
            " [-2.1863503   5.42366291]\n",
            " [ 4.33314251 -2.72864972]\n",
            " [-1.03206347 -1.99150424]\n",
            " [ 5.0322166  -4.9253611 ]\n",
            " [-1.7839324  -1.31804477]\n",
            " [-5.12780269 -0.09012947]\n",
            " [-3.82654575 -0.23541819]\n",
            " [ 2.34831148  0.94451979]\n",
            " [-0.21478413 -1.61842885]\n",
            " [-1.96007289  4.72824683]\n",
            " [-2.23617842  0.327753  ]\n",
            " [-4.68047649 -2.40918366]\n",
            " [-3.56910261 -2.67553805]\n",
            " [-2.24528614  0.11262349]\n",
            " [-0.18784153  1.12486194]\n",
            " [ 8.82755778  4.27060517]\n",
            " [-0.64290188  6.30237377]\n",
            " [ 3.4675805   3.04672169]\n",
            " [-1.90473602  3.1326717 ]\n",
            " [-1.35365172  1.40938481]\n",
            " [ 6.09708167 -5.70528382]\n",
            " [-0.12572486 -1.13966484]]\n"
          ]
        }
      ]
    },
    {
      "cell_type": "code",
      "source": [
        "for i in range(30):\n",
        "  plt.scatter(X[i,0],X[i,1])\n"
      ],
      "metadata": {
        "colab": {
          "base_uri": "https://localhost:8080/",
          "height": 265
        },
        "id": "RJwaDE-Fg_ka",
        "outputId": "dc48056d-5e9f-4eb2-d1c3-4db844715212"
      },
      "execution_count": 113,
      "outputs": [
        {
          "output_type": "display_data",
          "data": {
            "text/plain": [
              "<Figure size 432x288 with 1 Axes>"
            ],
            "image/png": "[encoded data removed]"
          },
          "metadata": {
            "needs_background": "light"
          }
        }
      ]
    },
    {
      "cell_type": "code",
      "source": [
        "print(\"No,a randomly initialized network does not show any discriminability, since it does not undergone any training\")"
      ],
      "metadata": {
        "colab": {
          "base_uri": "https://localhost:8080/"
        },
        "id": "4A4wCInA5rdg",
        "outputId": "360da361-487f-4be3-c568-46e2e58b2edf"
      },
      "execution_count": 114,
      "outputs": [
        {
          "output_type": "stream",
          "name": "stdout",
          "text": [
            "No,a randomly initialized network does not show any discriminability, since it does not undergone any training\n"
          ]
        }
      ]
    }
  ]
}